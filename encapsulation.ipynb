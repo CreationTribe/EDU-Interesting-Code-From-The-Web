{
 "cells": [
  {
   "cell_type": "code",
   "execution_count": 40,
   "metadata": {
    "collapsed": true
   },
   "outputs": [
    {
     "name": "stdout",
     "output_type": "stream",
     "text": [
      "== FUNCTIONS -------------------------------\n",
      "public_variable_func()       : PUBLIC\n",
      "semi_private_var_func()      : _SEMI-PRIVATE\n",
      "private_variable_func()      : __PRIVATE\n",
      "== VARIABLES -------------------------------\n",
      "public_variable              : PUBLIC\n",
      "_semi_private_var            : _SEMI-PRIVATE\n",
      "_Human__private_variable     : __PRIVATE\n"
     ]
    }
   ],
   "source": [
    "# making a variable private? Is this right?\n",
    "\n",
    "class Human:\n",
    "\n",
    "    public_variable = ''\n",
    "    _semi_private_var = ''\n",
    "    __private_variable = ''\n",
    "\n",
    "    def __init__(self):\n",
    "        self.public_variable = 'PUBLIC'\n",
    "        self._semi_private_var = '_SEMI-PRIVATE'\n",
    "        self.__private_variable = '__PRIVATE'\n",
    "\n",
    "    def public_variable_func(self):\n",
    "        return self.public_variable\n",
    "\n",
    "    def semi_private_var_func(self):\n",
    "        return self._semi_private_var\n",
    "\n",
    "    def private_variable_func(self):\n",
    "        return self.__private_variable\n",
    "\n",
    "\n",
    "joe = Human()\n",
    "\n",
    "print('== FUNCTIONS -------------------------------')\n",
    "print(\"public_variable_func()       : \"+joe.public_variable_func())\n",
    "print(\"semi_private_var_func()      : \"+joe.semi_private_var_func())\n",
    "print(\"private_variable_func()      : \"+joe.private_variable_func())\n",
    "\n",
    "print('== VARIABLES -------------------------------')\n",
    "print(\"public_variable              : \"+joe.public_variable)\n",
    "print(\"_semi_private_var            : \"+joe._semi_private_var)\n",
    "print(\"_Human__private_variable     : \"+joe._Human__private_variable)"
   ]
  },
  {
   "cell_type": "code",
   "execution_count": null,
   "outputs": [],
   "source": [],
   "metadata": {
    "collapsed": false,
    "pycharm": {
     "name": "#%%\n"
    }
   }
  }
 ],
 "metadata": {
  "kernelspec": {
   "display_name": "Python 3",
   "language": "python",
   "name": "python3"
  },
  "language_info": {
   "codemirror_mode": {
    "name": "ipython",
    "version": 2
   },
   "file_extension": ".py",
   "mimetype": "text/x-python",
   "name": "python",
   "nbconvert_exporter": "python",
   "pygments_lexer": "ipython2",
   "version": "2.7.6"
  }
 },
 "nbformat": 4,
 "nbformat_minor": 0
}